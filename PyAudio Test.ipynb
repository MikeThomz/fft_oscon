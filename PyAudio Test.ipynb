{
 "metadata": {
  "name": "",
  "signature": "sha256:9152919af03ac166b03d20675f3e30329d5d4179d669aa9031cdf6c1e4c72ffe"
 },
 "nbformat": 3,
 "nbformat_minor": 0,
 "worksheets": [
  {
   "cells": [
    {
     "cell_type": "code",
     "collapsed": false,
     "input": [
      "\"\"\"\n",
      "PyAudio Example: Make a wire between input and output (i.e., record a\n",
      "few samples and play them back immediately).\n",
      "\"\"\""
     ],
     "language": "python",
     "metadata": {},
     "outputs": [
      {
       "metadata": {},
       "output_type": "pyout",
       "prompt_number": 1,
       "text": [
        "'\\nPyAudio Example: Make a wire between input and output (i.e., record a\\nfew samples and play them back immediately).\\n'"
       ]
      }
     ],
     "prompt_number": 1
    },
    {
     "cell_type": "code",
     "collapsed": false,
     "input": [
      "import pyaudio\n",
      "\n",
      "CHUNK = 1024\n",
      "WIDTH = 2\n",
      "CHANNELS = 2\n",
      "RATE = 44100\n",
      "RECORD_SECONDS = 5\n",
      "\n",
      "p = pyaudio.PyAudio()\n",
      "\n",
      "stream = p.open(format=p.get_format_from_width(WIDTH),\n",
      "                channels=CHANNELS,\n",
      "                rate=RATE,\n",
      "                input=True,\n",
      "                output=True,\n",
      "                frames_per_buffer=CHUNK)\n",
      "\n",
      "print(\"* recording\")\n",
      "\n",
      "for i in range(0, int(RATE / CHUNK * RECORD_SECONDS)):\n",
      "    data = stream.read(CHUNK)\n",
      "    stream.write(data, CHUNK)\n",
      "\n",
      "print(\"* done\")\n",
      "\n",
      "stream.stop_stream()\n",
      "stream.close()\n",
      "\n",
      "p.terminate()"
     ],
     "language": "python",
     "metadata": {},
     "outputs": [
      {
       "output_type": "stream",
       "stream": "stdout",
       "text": [
        "* recording\n"
       ]
      },
      {
       "ename": "IOError",
       "evalue": "[Errno Input overflowed] -9981",
       "output_type": "pyerr",
       "traceback": [
        "\u001b[0;31m---------------------------------------------------------------------------\u001b[0m\n\u001b[0;31mIOError\u001b[0m                                   Traceback (most recent call last)",
        "\u001b[0;32m<ipython-input-5-ea454c803396>\u001b[0m in \u001b[0;36m<module>\u001b[0;34m()\u001b[0m\n\u001b[1;32m     19\u001b[0m \u001b[0;34m\u001b[0m\u001b[0m\n\u001b[1;32m     20\u001b[0m \u001b[0;32mfor\u001b[0m \u001b[0mi\u001b[0m \u001b[0;32min\u001b[0m \u001b[0mrange\u001b[0m\u001b[0;34m(\u001b[0m\u001b[0;36m0\u001b[0m\u001b[0;34m,\u001b[0m \u001b[0mint\u001b[0m\u001b[0;34m(\u001b[0m\u001b[0mRATE\u001b[0m \u001b[0;34m/\u001b[0m \u001b[0mCHUNK\u001b[0m \u001b[0;34m*\u001b[0m \u001b[0mRECORD_SECONDS\u001b[0m\u001b[0;34m)\u001b[0m\u001b[0;34m)\u001b[0m\u001b[0;34m:\u001b[0m\u001b[0;34m\u001b[0m\u001b[0m\n\u001b[0;32m---> 21\u001b[0;31m     \u001b[0mdata\u001b[0m \u001b[0;34m=\u001b[0m \u001b[0mstream\u001b[0m\u001b[0;34m.\u001b[0m\u001b[0mread\u001b[0m\u001b[0;34m(\u001b[0m\u001b[0mCHUNK\u001b[0m\u001b[0;34m)\u001b[0m\u001b[0;34m\u001b[0m\u001b[0m\n\u001b[0m\u001b[1;32m     22\u001b[0m     \u001b[0mstream\u001b[0m\u001b[0;34m.\u001b[0m\u001b[0mwrite\u001b[0m\u001b[0;34m(\u001b[0m\u001b[0mdata\u001b[0m\u001b[0;34m,\u001b[0m \u001b[0mCHUNK\u001b[0m\u001b[0;34m)\u001b[0m\u001b[0;34m\u001b[0m\u001b[0m\n\u001b[1;32m     23\u001b[0m \u001b[0;34m\u001b[0m\u001b[0m\n",
        "\u001b[0;32m//anaconda/lib/python2.7/site-packages/pyaudio.pyc\u001b[0m in \u001b[0;36mread\u001b[0;34m(self, num_frames)\u001b[0m\n\u001b[1;32m    603\u001b[0m                           paCanNotReadFromAnOutputOnlyStream)\n\u001b[1;32m    604\u001b[0m \u001b[0;34m\u001b[0m\u001b[0m\n\u001b[0;32m--> 605\u001b[0;31m         \u001b[0;32mreturn\u001b[0m \u001b[0mpa\u001b[0m\u001b[0;34m.\u001b[0m\u001b[0mread_stream\u001b[0m\u001b[0;34m(\u001b[0m\u001b[0mself\u001b[0m\u001b[0;34m.\u001b[0m\u001b[0m_stream\u001b[0m\u001b[0;34m,\u001b[0m \u001b[0mnum_frames\u001b[0m\u001b[0;34m)\u001b[0m\u001b[0;34m\u001b[0m\u001b[0m\n\u001b[0m\u001b[1;32m    606\u001b[0m \u001b[0;34m\u001b[0m\u001b[0m\n\u001b[1;32m    607\u001b[0m     \u001b[0;32mdef\u001b[0m \u001b[0mget_read_available\u001b[0m\u001b[0;34m(\u001b[0m\u001b[0mself\u001b[0m\u001b[0;34m)\u001b[0m\u001b[0;34m:\u001b[0m\u001b[0;34m\u001b[0m\u001b[0m\n",
        "\u001b[0;31mIOError\u001b[0m: [Errno Input overflowed] -9981"
       ]
      }
     ],
     "prompt_number": 5
    },
    {
     "cell_type": "code",
     "collapsed": false,
     "input": [
      "\"\"\"PyAudio example: Record a few seconds of audio and save to a WAVE file.\"\"\"\n",
      "\n",
      "import pyaudio\n",
      "import wave\n",
      "\n",
      "CHUNK = 1024\n",
      "FORMAT = pyaudio.paInt16\n",
      "CHANNELS = 2\n",
      "RATE = 44100\n",
      "RECORD_SECONDS = 5\n",
      "WAVE_OUTPUT_FILENAME = \"output.wav\"\n",
      "\n",
      "p = pyaudio.PyAudio()\n",
      "\n",
      "stream = p.open(format=FORMAT,\n",
      "                channels=CHANNELS,\n",
      "                rate=RATE,\n",
      "                input=True,\n",
      "                frames_per_buffer=CHUNK)\n",
      "\n",
      "print(\"* recording\")\n",
      "\n",
      "frames = []\n",
      "\n",
      "for i in range(0, int(RATE / CHUNK * RECORD_SECONDS)):\n",
      "    data = stream.read(CHUNK)\n",
      "    frames.append(data)\n",
      "\n",
      "print(\"* done recording\")\n",
      "\n",
      "stream.stop_stream()\n",
      "stream.close()\n",
      "p.terminate()\n",
      "\n",
      "wf = wave.open(WAVE_OUTPUT_FILENAME, 'wb')\n",
      "wf.setnchannels(CHANNELS)\n",
      "wf.setsampwidth(p.get_sample_size(FORMAT))\n",
      "wf.setframerate(RATE)\n",
      "wf.writeframes(b''.join(frames))\n",
      "wf.close()"
     ],
     "language": "python",
     "metadata": {},
     "outputs": [
      {
       "output_type": "stream",
       "stream": "stdout",
       "text": [
        "* recording\n",
        "* done recording"
       ]
      },
      {
       "output_type": "stream",
       "stream": "stdout",
       "text": [
        "\n"
       ]
      }
     ],
     "prompt_number": 3
    },
    {
     "cell_type": "code",
     "collapsed": false,
     "input": [],
     "language": "python",
     "metadata": {},
     "outputs": []
    }
   ],
   "metadata": {}
  }
 ]
}