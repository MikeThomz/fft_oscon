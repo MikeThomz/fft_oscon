{
 "metadata": {
  "name": "",
  "signature": "sha256:fc7e2a138269a4d6b61bd8fee8e42d5bcb62e3f4e834e85263e2b89a4f486b50"
 },
 "nbformat": 3,
 "nbformat_minor": 0,
 "worksheets": [
  {
   "cells": [
    {
     "cell_type": "markdown",
     "metadata": {},
     "source": [
      "$$ Real[X_k] = \\sum_{i=0}^{N - 1} x_i * cos(2\\pi k i / N)$$\n",
      "\n",
      "So, $k$ chooses the frequency ($2\\pi k$) and $i / N$ evenly spaces the measured values of $x_i$ around the circle."
     ]
    },
    {
     "cell_type": "code",
     "collapsed": false,
     "input": [],
     "language": "python",
     "metadata": {},
     "outputs": []
    }
   ],
   "metadata": {}
  }
 ]
}